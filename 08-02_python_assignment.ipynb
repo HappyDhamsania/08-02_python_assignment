{
 "cells": [
  {
   "cell_type": "markdown",
   "id": "9868c3dd-e8ad-471f-9843-caaeecf81933",
   "metadata": {},
   "source": [
    "Q1. What is Abstraction in OOps? Explain with an example."
   ]
  },
  {
   "cell_type": "markdown",
   "id": "257bfed9-8368-4495-a9f1-b813984ddaf4",
   "metadata": {},
   "source": [
    "Abstraction is one of the key concepts of object-oriented programming (OOP) languages. Abstraction is the process of hiding the internal details of an application from the users and used to describe things in simple terms. That enables the user to implement more complex logic on top of the provided abstraction without understanding or even thinking about all the hidden complexity."
   ]
  },
  {
   "cell_type": "markdown",
   "id": "c5b67e4c-3030-4650-a7eb-abaeba0d7c85",
   "metadata": {},
   "source": [
    "For example, let's consider a car. From a user's prespective, a car is a means of transportation that has certain features such as the ability to move, stop, turn, accelerate and decelerate. A user does not need to know how these features work or how the car's internal mechanism is functioning to use the car. the user only needs to know how to operate the car and make it go where they want. this is an example of abstraction in action, as the user only interacts with the relevant features of the car and not the internal mechanisms of how the car works."
   ]
  },
  {
   "cell_type": "markdown",
   "id": "f7ec833e-dc08-4d75-9b3e-8686a947df7f",
   "metadata": {},
   "source": [
    "Q2. Differentiate between Abstraction and Encapsulation. Explain with an example."
   ]
  },
  {
   "cell_type": "markdown",
   "id": "a5ae3638-2fc9-485a-8201-de4b4f02703f",
   "metadata": {},
   "source": [
    "Abstraction is the process of hiding the implementation details of a system and exposing only the essential features to the users. In other words, it focuses on the 'what' of a system rather than the 'how'. Abstraction is achieved through the use of abstract classes and interfaces. An Abstract class is a class that cannot be instantied but can be inherited by other classes. it can contain both abstract and concrete methods. An abstract method is a method that does not have an implementation in the abstract class but must be implemented in the child class. An interface is a collection of abstract methods that define a contract for implementing classes."
   ]
  },
  {
   "cell_type": "markdown",
   "id": "65bd5841-79cf-41f0-bbc1-463135cbded5",
   "metadata": {},
   "source": [
    "Encapsulation, on the other hand, is the process of hiding the internal details of a system from the outside world. It involves the bundling of data and methods that operate on that data into a single unit called a class. Access to the data and methods is controlled through the use of access modifiers such as private, public and protected. private members of a class are only accessible within the class, while public members are accessible from outside the class."
   ]
  },
  {
   "cell_type": "code",
   "execution_count": 5,
   "id": "8bbcf7a5-7fca-4e1f-a307-33a438078ad7",
   "metadata": {},
   "outputs": [],
   "source": [
    "#Abstract class representing a person \n",
    "class person:\n",
    "    def __init__(self, name, age):\n",
    "        self.name = name \n",
    "        self.age = age \n",
    "        \n",
    "    #Abstract method to get person's occupation\n",
    "    def get_occupation(self):\n",
    "        pass\n",
    "    \n",
    "#concrete class representing a teacher\n",
    "class Teacher(person):\n",
    "    def __init__(self, name, age, subject):\n",
    "        super().__init__(name, age)\n",
    "        self.subject = subject\n",
    "        \n",
    "    #Implementaion of the abstract method to get person's occupation\n",
    "    def get_occupation(self):\n",
    "        return \"Teacher\"\n",
    "    \n",
    "    #public method to get the subject taught\n",
    "    def get_subject(self):\n",
    "        return self.subject"
   ]
  },
  {
   "cell_type": "code",
   "execution_count": 6,
   "id": "a16795df-b29f-4fdc-92dc-0428d903f2d7",
   "metadata": {},
   "outputs": [
    {
     "name": "stdout",
     "output_type": "stream",
     "text": [
      "Teacher\n",
      "Maths\n"
     ]
    }
   ],
   "source": [
    "teacher = Teacher(\"John\",35,\"Maths\")\n",
    "print(teacher.get_occupation())\n",
    "print(teacher.get_subject())"
   ]
  },
  {
   "cell_type": "code",
   "execution_count": 11,
   "id": "8a415b64-11f8-48d3-819d-91aac5f473fb",
   "metadata": {},
   "outputs": [],
   "source": [
    "class bank_account:\n",
    "    def __init__(self,balance):\n",
    "        self.__balance = balance\n",
    "        \n",
    "    def deposit(self,amount):\n",
    "        self.__balance= self.__balance + amount\n",
    "        \n",
    "    def withdraw(self,amount):\n",
    "        if self.__balance >= amount:\n",
    "            self.__balance = self.__balance - amount\n",
    "            return self.__balance\n",
    "        else:\n",
    "            print(\"Insufficient balance\")\n",
    "    def get_balance(self):\n",
    "        return self.__balance"
   ]
  },
  {
   "cell_type": "code",
   "execution_count": 12,
   "id": "8e14e09a-e217-4ad4-8a10-c5cb546da21a",
   "metadata": {},
   "outputs": [],
   "source": [
    "Raj = bank_account(5000)"
   ]
  },
  {
   "cell_type": "code",
   "execution_count": 13,
   "id": "32cb1d61-afae-4b4e-831f-f85d0fe628b0",
   "metadata": {},
   "outputs": [
    {
     "data": {
      "text/plain": [
       "5000"
      ]
     },
     "execution_count": 13,
     "metadata": {},
     "output_type": "execute_result"
    }
   ],
   "source": [
    "Raj.get_balance()"
   ]
  },
  {
   "cell_type": "code",
   "execution_count": 14,
   "id": "b2cf793d-4399-4940-bf36-179fbe1ae8cb",
   "metadata": {},
   "outputs": [],
   "source": [
    "Raj.deposit(5000)"
   ]
  },
  {
   "cell_type": "code",
   "execution_count": 15,
   "id": "eb359cd0-264f-49ee-a695-cb6a623e5ff0",
   "metadata": {},
   "outputs": [
    {
     "data": {
      "text/plain": [
       "10000"
      ]
     },
     "execution_count": 15,
     "metadata": {},
     "output_type": "execute_result"
    }
   ],
   "source": [
    "Raj.get_balance()"
   ]
  },
  {
   "cell_type": "code",
   "execution_count": 16,
   "id": "093685c3-c009-42ab-814d-1a02b8a54191",
   "metadata": {},
   "outputs": [
    {
     "name": "stdout",
     "output_type": "stream",
     "text": [
      "Insufficient balance\n"
     ]
    }
   ],
   "source": [
    "Raj.withdraw(15000)"
   ]
  },
  {
   "cell_type": "code",
   "execution_count": 17,
   "id": "22de3c9e-7e05-4712-b363-d6be6fab6126",
   "metadata": {},
   "outputs": [
    {
     "data": {
      "text/plain": [
       "9000"
      ]
     },
     "execution_count": 17,
     "metadata": {},
     "output_type": "execute_result"
    }
   ],
   "source": [
    "Raj.withdraw(1000)"
   ]
  },
  {
   "cell_type": "markdown",
   "id": "fbf5427f-5557-45e7-8791-4719c5b936b9",
   "metadata": {},
   "source": [
    "Q3. What is abc module in python? Why is it used?"
   ]
  },
  {
   "cell_type": "markdown",
   "id": "b6a5a7c3-4adb-49d4-866c-78b00c9a2ce8",
   "metadata": {},
   "source": [
    "Python has a module called abc (abstract base class) that offers the necessary tools for crafting an abstract base class. The main goal of the abstract base class is to provide a standardized way to test whether an object adheres to a given specification. It can also prevent any attempt to instantiate a subclass that doesn’t override a particular method in the superclass. And finally, using an abstract class, a class can derive identity from another class without any object inheritance."
   ]
  },
  {
   "cell_type": "markdown",
   "id": "14613d6e-7647-4781-9cbe-8dd51f32d4c4",
   "metadata": {},
   "source": [
    "Q4. How can we achieve data abstraction?"
   ]
  },
  {
   "cell_type": "markdown",
   "id": "2d851de5-5163-485d-b18a-fbc1de533a6f",
   "metadata": {},
   "source": [
    "Data abstraction can be achieved in python through the use of abstract classes and interfaces provided by the abc module. Abstract classes can define abstract methods that do not have an implementation and must be implemented by their concrete subclasses. interfaces can define a set of methods that must be implemented by any class that implements the interface. by using abstract classes and interfaces, we can hide the implementaion details of a class and only expose the necessary methods and attributes, achieving data abstraction. additionally, encapsulation can also be used in conjunction with abstraction to further hide the internal working of a class."
   ]
  },
  {
   "cell_type": "markdown",
   "id": "877ef5b6-5de3-41ae-ae77-0ac63568f514",
   "metadata": {},
   "source": [
    "Q5. Can we create an instance of an abstract class? Explain your answer."
   ]
  },
  {
   "cell_type": "markdown",
   "id": "4b8444b5-5cff-47c8-bfc1-df42db80ed97",
   "metadata": {},
   "source": [
    "No, we can not create an instance of an abstract class directly. An abstract class is a blueprint for other classes to inherit and implements its methods. It is meant to be subclassed and its methods overridden in the subclasses to provide specific implementations. Attempting to create an instance of an abstract class will result in typeerror."
   ]
  }
 ],
 "metadata": {
  "kernelspec": {
   "display_name": "Python 3 (ipykernel)",
   "language": "python",
   "name": "python3"
  },
  "language_info": {
   "codemirror_mode": {
    "name": "ipython",
    "version": 3
   },
   "file_extension": ".py",
   "mimetype": "text/x-python",
   "name": "python",
   "nbconvert_exporter": "python",
   "pygments_lexer": "ipython3",
   "version": "3.10.8"
  }
 },
 "nbformat": 4,
 "nbformat_minor": 5
}
